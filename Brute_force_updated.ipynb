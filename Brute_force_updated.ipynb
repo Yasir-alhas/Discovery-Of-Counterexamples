{
 "cells": [
  {
   "cell_type": "code",
   "execution_count": 32,
   "id": "9bc34301",
   "metadata": {},
   "outputs": [
    {
     "name": "stdout",
     "output_type": "stream",
     "text": [
      "trace(λ⁵)            = 4.239263e+07\n",
      "||W||₁              = 3.600000e+01\n",
      "RHS = ||W||₁¹⁵/36¹⁰ = 6.046619e+07\n",
      "trace(λ⁵) ≥ RHS?   = False\n",
      "ratio trace5/RHS    = 0.701096\n",
      "\n",
      "W (CSV style, full precision):\n",
      "7.8204482793807983e-01,6.2036350369453430e-02,3.5972654819488525e-02,1.4509894847869873e+00,1.8147165775299072e+00,1.8408342599868774e+00\n",
      "1.7984236478805542e+00,3.8477037101984024e-02,1.8717795610427856e+00,6.3513398170471191e-02,1.3906623125076294e+00,8.6160963773727417e-01\n",
      "1.8503205776214600e+00,1.4306045770645142e+00,6.7286871373653412e-02,1.7974983453750610e+00,8.4550929069519043e-01,3.1488545238971710e-02\n",
      "3.8489434868097305e-02,1.8097958564758301e+00,1.4983885288238525e+00,7.2393202781677246e-01,1.8638895750045776e+00,5.3890429437160492e-02\n",
      "1.4533377885818481e+00,1.8993490934371948e+00,7.0583009719848633e-01,4.6705074608325958e-02,5.9281889349222183e-02,1.8081198930740356e+00\n",
      "6.3456237316131592e-02,7.6679670810699463e-01,1.8007845878601074e+00,1.8992362022399902e+00,3.8928668946027756e-02,1.4360206127166748e+00\n"
     ]
    }
   ],
   "source": [
    "'''\n",
    "spectral_check.py\n",
    "\n",
    "Compute hom(K5,5\\C10, W) via the spectral method:\n",
    "  • Builds the 36×36 lifted matrix ~W from a given 6×6 weight matrix W\n",
    "  • Computes all eigenvalues and sums their 5th powers\n",
    "  • Compares against the Sidorenko bound ||W||₁^15/(36^10)\n",
    "  • Prints W in high precision CSV format\n",
    "\n",
    "Usage:\n",
    "  $ pip install numpy\n",
    "  $ python spectral_check.py\n",
    "'''\n",
    "import numpy as np\n",
    "\n",
    "# Ensure full precision when printing\n",
    "np.set_printoptions(precision=16, suppress=False)\n",
    "\n",
    "# 1) Define your 6×6 weight matrix W exactly as in the CSV\n",
    "W = np.array([\n",
    "    [7.8204482793807983e-01,6.2036350369453430e-02,3.5972654819488525e-02,1.4509894847869873e+00,1.8147165775299072e+00,1.8408342599868774e+00],\n",
    "    [1.7984236478805542e+00,3.8477037101984024e-02,1.8717795610427856e+00,6.3513398170471191e-02,1.3906623125076294e+00,8.6160963773727417e-01],\n",
    "    [1.8503205776214600e+00,1.4306045770645142e+00,6.7286871373653412e-02,1.7974983453750610e+00,8.4550929069519043e-01,3.1488545238971710e-02],\n",
    "    [3.8489434868097305e-02,1.8097958564758301e+00,1.4983885288238525e+00,7.2393202781677246e-01,1.8638895750045776e+00,5.3890429437160492e-02],\n",
    "    [1.4533377885818481e+00,1.8993490934371948e+00,7.0583009719848633e-01,4.6705074608325958e-02,5.9281889349222183e-02,1.8081198930740356e+00],\n",
    "    [6.3456237316131592e-02,7.6679670810699463e-01,1.8007845878601074e+00,1.8992362022399902e+00,3.8928668946027756e-02,1.4360206127166748e+00]\n",
    "])\n",
    "\n",
    "# 2) Build the 36×36 lifted matrix ~W\n",
    "a = 6\n",
    "pairs = [(i, j) for i in range(a) for j in range(a)]\n",
    "M_tilde = np.zeros((a*a, a*a))\n",
    "for idx1, (i, j) in enumerate(pairs):\n",
    "    for idx2, (k, l) in enumerate(pairs):\n",
    "        M_tilde[idx1, idx2] = W[k, j] * np.sqrt(W[i, j] * W[k, l] * W[i, l])\n",
    "\n",
    "# 3) Eigenvalues and trace of 5th powers\n",
    "eigs = np.linalg.eigvalsh(M_tilde)\n",
    "trace5 = np.sum(eigs**5)\n",
    "\n",
    "# 4) Sidorenko bound\n",
    "norm1 = np.sum(W)\n",
    "rhs = norm1**15 / ((a*a)**10)\n",
    "\n",
    "# 5) Print results\n",
    "print(f\"trace(λ⁵)            = {trace5:.6e}\")\n",
    "print(f\"||W||₁              = {norm1:.6e}\")\n",
    "print(f\"RHS = ||W||₁¹⁵/36¹⁰ = {rhs:.6e}\")\n",
    "print(f\"trace(λ⁵) ≥ RHS?   = {trace5 >= rhs}\")\n",
    "print(f\"ratio trace5/RHS    = {trace5/rhs:.6f}\")\n",
    "\n",
    "# 6) Print W in CSV style with full precision\n",
    "print(\"\\nW (CSV style, full precision):\")\n",
    "for row in W:\n",
    "    print(\",\".join(f\"{x:.16e}\" for x in row))\n"
   ]
  }
 ],
 "metadata": {
  "kernelspec": {
   "display_name": "Python 3.11 (rl-env)",
   "language": "python",
   "name": "rl-env"
  },
  "language_info": {
   "codemirror_mode": {
    "name": "ipython",
    "version": 3
   },
   "file_extension": ".py",
   "mimetype": "text/x-python",
   "name": "python",
   "nbconvert_exporter": "python",
   "pygments_lexer": "ipython3",
   "version": "3.11.12"
  }
 },
 "nbformat": 4,
 "nbformat_minor": 5
}
